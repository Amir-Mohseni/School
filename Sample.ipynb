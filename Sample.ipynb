{
 "cells": [
  {
   "cell_type": "markdown",
   "source": [
    "## Create a population dataset"
   ],
   "metadata": {
    "collapsed": false
   }
  },
  {
   "cell_type": "code",
   "execution_count": 40,
   "metadata": {
    "collapsed": true,
    "ExecuteTime": {
     "end_time": "2023-12-04T19:44:19.415261Z",
     "start_time": "2023-12-04T19:44:19.386113Z"
    }
   },
   "outputs": [],
   "source": [
    "import pandas as pd\n",
    "\n",
    "pd = pd.read_csv('./Population/population.csv')"
   ]
  },
  {
   "cell_type": "markdown",
   "source": [
    "## Task 1: Find out how many people are named \"Riley\" in the dataset"
   ],
   "metadata": {
    "collapsed": false
   }
  },
  {
   "cell_type": "code",
   "execution_count": 41,
   "outputs": [
    {
     "data": {
      "text/plain": "      name  age eye_color favorite_color\n11   Riley   44      gray          green\n51   Riley   55      blue          green\n67   Riley   12     brown         yellow\n158  Riley   54     green          brown",
      "text/html": "<div>\n<style scoped>\n    .dataframe tbody tr th:only-of-type {\n        vertical-align: middle;\n    }\n\n    .dataframe tbody tr th {\n        vertical-align: top;\n    }\n\n    .dataframe thead th {\n        text-align: right;\n    }\n</style>\n<table border=\"1\" class=\"dataframe\">\n  <thead>\n    <tr style=\"text-align: right;\">\n      <th></th>\n      <th>name</th>\n      <th>age</th>\n      <th>eye_color</th>\n      <th>favorite_color</th>\n    </tr>\n  </thead>\n  <tbody>\n    <tr>\n      <th>11</th>\n      <td>Riley</td>\n      <td>44</td>\n      <td>gray</td>\n      <td>green</td>\n    </tr>\n    <tr>\n      <th>51</th>\n      <td>Riley</td>\n      <td>55</td>\n      <td>blue</td>\n      <td>green</td>\n    </tr>\n    <tr>\n      <th>67</th>\n      <td>Riley</td>\n      <td>12</td>\n      <td>brown</td>\n      <td>yellow</td>\n    </tr>\n    <tr>\n      <th>158</th>\n      <td>Riley</td>\n      <td>54</td>\n      <td>green</td>\n      <td>brown</td>\n    </tr>\n  </tbody>\n</table>\n</div>"
     },
     "execution_count": 41,
     "metadata": {},
     "output_type": "execute_result"
    }
   ],
   "source": [
    "name = \"Riley\"\n",
    "pd[pd['name'] == name]"
   ],
   "metadata": {
    "collapsed": false,
    "ExecuteTime": {
     "end_time": "2023-12-04T19:44:19.433084Z",
     "start_time": "2023-12-04T19:44:19.430086Z"
    }
   }
  },
  {
   "cell_type": "markdown",
   "source": [
    "## Task 2: Find out how many people have brown eyes in the dataset"
   ],
   "metadata": {
    "collapsed": false
   }
  },
  {
   "cell_type": "code",
   "execution_count": 42,
   "outputs": [
    {
     "data": {
      "text/plain": "          name  age eye_color favorite_color\n26       Emily   34     brown           blue\n32      Evelyn   52     brown          brown\n42   Alexander   49     brown          brown\n52       Aiden   23     brown            red\n58       James    6     brown          green\n67       Riley   12     brown         yellow\n71       Chloe   22     brown           pink\n74      Elijah   25     brown           pink\n77       Lucas   54     brown           pink\n78       Sofia   13     brown            red\n79        Liam   50     brown          white\n87     Michael   42     brown          brown\n90       Aiden    6     brown            red\n94      Samuel   40     brown         orange\n96       Lucas   44     brown           blue\n98       Aiden   27     brown          brown\n107     Evelyn   10     brown          white\n118       Liam   44     brown          white\n124      Emily    3     brown          brown\n127      Lucas   35     brown          black\n129    Michael   28     brown          brown\n130   Scarlett   54     brown         purple\n133     Evelyn   43     brown          black\n141    Abigail   64     brown         orange\n144     Harper   36     brown         orange\n152      Sofia   18     brown          green\n155    Abigail   60     brown           pink\n161     Daniel   62     brown          brown\n168      Aiden   64     brown          green\n170      Layla    4     brown         yellow\n173      Ethan   29     brown          black",
      "text/html": "<div>\n<style scoped>\n    .dataframe tbody tr th:only-of-type {\n        vertical-align: middle;\n    }\n\n    .dataframe tbody tr th {\n        vertical-align: top;\n    }\n\n    .dataframe thead th {\n        text-align: right;\n    }\n</style>\n<table border=\"1\" class=\"dataframe\">\n  <thead>\n    <tr style=\"text-align: right;\">\n      <th></th>\n      <th>name</th>\n      <th>age</th>\n      <th>eye_color</th>\n      <th>favorite_color</th>\n    </tr>\n  </thead>\n  <tbody>\n    <tr>\n      <th>26</th>\n      <td>Emily</td>\n      <td>34</td>\n      <td>brown</td>\n      <td>blue</td>\n    </tr>\n    <tr>\n      <th>32</th>\n      <td>Evelyn</td>\n      <td>52</td>\n      <td>brown</td>\n      <td>brown</td>\n    </tr>\n    <tr>\n      <th>42</th>\n      <td>Alexander</td>\n      <td>49</td>\n      <td>brown</td>\n      <td>brown</td>\n    </tr>\n    <tr>\n      <th>52</th>\n      <td>Aiden</td>\n      <td>23</td>\n      <td>brown</td>\n      <td>red</td>\n    </tr>\n    <tr>\n      <th>58</th>\n      <td>James</td>\n      <td>6</td>\n      <td>brown</td>\n      <td>green</td>\n    </tr>\n    <tr>\n      <th>67</th>\n      <td>Riley</td>\n      <td>12</td>\n      <td>brown</td>\n      <td>yellow</td>\n    </tr>\n    <tr>\n      <th>71</th>\n      <td>Chloe</td>\n      <td>22</td>\n      <td>brown</td>\n      <td>pink</td>\n    </tr>\n    <tr>\n      <th>74</th>\n      <td>Elijah</td>\n      <td>25</td>\n      <td>brown</td>\n      <td>pink</td>\n    </tr>\n    <tr>\n      <th>77</th>\n      <td>Lucas</td>\n      <td>54</td>\n      <td>brown</td>\n      <td>pink</td>\n    </tr>\n    <tr>\n      <th>78</th>\n      <td>Sofia</td>\n      <td>13</td>\n      <td>brown</td>\n      <td>red</td>\n    </tr>\n    <tr>\n      <th>79</th>\n      <td>Liam</td>\n      <td>50</td>\n      <td>brown</td>\n      <td>white</td>\n    </tr>\n    <tr>\n      <th>87</th>\n      <td>Michael</td>\n      <td>42</td>\n      <td>brown</td>\n      <td>brown</td>\n    </tr>\n    <tr>\n      <th>90</th>\n      <td>Aiden</td>\n      <td>6</td>\n      <td>brown</td>\n      <td>red</td>\n    </tr>\n    <tr>\n      <th>94</th>\n      <td>Samuel</td>\n      <td>40</td>\n      <td>brown</td>\n      <td>orange</td>\n    </tr>\n    <tr>\n      <th>96</th>\n      <td>Lucas</td>\n      <td>44</td>\n      <td>brown</td>\n      <td>blue</td>\n    </tr>\n    <tr>\n      <th>98</th>\n      <td>Aiden</td>\n      <td>27</td>\n      <td>brown</td>\n      <td>brown</td>\n    </tr>\n    <tr>\n      <th>107</th>\n      <td>Evelyn</td>\n      <td>10</td>\n      <td>brown</td>\n      <td>white</td>\n    </tr>\n    <tr>\n      <th>118</th>\n      <td>Liam</td>\n      <td>44</td>\n      <td>brown</td>\n      <td>white</td>\n    </tr>\n    <tr>\n      <th>124</th>\n      <td>Emily</td>\n      <td>3</td>\n      <td>brown</td>\n      <td>brown</td>\n    </tr>\n    <tr>\n      <th>127</th>\n      <td>Lucas</td>\n      <td>35</td>\n      <td>brown</td>\n      <td>black</td>\n    </tr>\n    <tr>\n      <th>129</th>\n      <td>Michael</td>\n      <td>28</td>\n      <td>brown</td>\n      <td>brown</td>\n    </tr>\n    <tr>\n      <th>130</th>\n      <td>Scarlett</td>\n      <td>54</td>\n      <td>brown</td>\n      <td>purple</td>\n    </tr>\n    <tr>\n      <th>133</th>\n      <td>Evelyn</td>\n      <td>43</td>\n      <td>brown</td>\n      <td>black</td>\n    </tr>\n    <tr>\n      <th>141</th>\n      <td>Abigail</td>\n      <td>64</td>\n      <td>brown</td>\n      <td>orange</td>\n    </tr>\n    <tr>\n      <th>144</th>\n      <td>Harper</td>\n      <td>36</td>\n      <td>brown</td>\n      <td>orange</td>\n    </tr>\n    <tr>\n      <th>152</th>\n      <td>Sofia</td>\n      <td>18</td>\n      <td>brown</td>\n      <td>green</td>\n    </tr>\n    <tr>\n      <th>155</th>\n      <td>Abigail</td>\n      <td>60</td>\n      <td>brown</td>\n      <td>pink</td>\n    </tr>\n    <tr>\n      <th>161</th>\n      <td>Daniel</td>\n      <td>62</td>\n      <td>brown</td>\n      <td>brown</td>\n    </tr>\n    <tr>\n      <th>168</th>\n      <td>Aiden</td>\n      <td>64</td>\n      <td>brown</td>\n      <td>green</td>\n    </tr>\n    <tr>\n      <th>170</th>\n      <td>Layla</td>\n      <td>4</td>\n      <td>brown</td>\n      <td>yellow</td>\n    </tr>\n    <tr>\n      <th>173</th>\n      <td>Ethan</td>\n      <td>29</td>\n      <td>brown</td>\n      <td>black</td>\n    </tr>\n  </tbody>\n</table>\n</div>"
     },
     "execution_count": 42,
     "metadata": {},
     "output_type": "execute_result"
    }
   ],
   "source": [
    "eye_color = \"brown\"\n",
    "pd[pd['eye_color'] == eye_color]"
   ],
   "metadata": {
    "collapsed": false,
    "ExecuteTime": {
     "end_time": "2023-12-04T19:44:19.465543Z",
     "start_time": "2023-12-04T19:44:19.441049Z"
    }
   }
  },
  {
   "cell_type": "markdown",
   "source": [
    "## Task 3: Find out how many people are older than 30 in the dataset"
   ],
   "metadata": {
    "collapsed": false
   }
  },
  {
   "cell_type": "code",
   "execution_count": 43,
   "outputs": [
    {
     "data": {
      "text/plain": "          name  age eye_color favorite_color\n0      Jackson   38     green         yellow\n3          Zoe   45     green          green\n6        Chloe   55     green          green\n8        Aiden   60     green          brown\n9     Benjamin   50      gray         yellow\n..         ...  ...       ...            ...\n194  Charlotte   45      blue            red\n195       Noah   39     hazel          white\n197      Lucas   53      blue          white\n198       Emma   63     amber           blue\n199     Evelyn   65      gray          black\n\n[110 rows x 4 columns]",
      "text/html": "<div>\n<style scoped>\n    .dataframe tbody tr th:only-of-type {\n        vertical-align: middle;\n    }\n\n    .dataframe tbody tr th {\n        vertical-align: top;\n    }\n\n    .dataframe thead th {\n        text-align: right;\n    }\n</style>\n<table border=\"1\" class=\"dataframe\">\n  <thead>\n    <tr style=\"text-align: right;\">\n      <th></th>\n      <th>name</th>\n      <th>age</th>\n      <th>eye_color</th>\n      <th>favorite_color</th>\n    </tr>\n  </thead>\n  <tbody>\n    <tr>\n      <th>0</th>\n      <td>Jackson</td>\n      <td>38</td>\n      <td>green</td>\n      <td>yellow</td>\n    </tr>\n    <tr>\n      <th>3</th>\n      <td>Zoe</td>\n      <td>45</td>\n      <td>green</td>\n      <td>green</td>\n    </tr>\n    <tr>\n      <th>6</th>\n      <td>Chloe</td>\n      <td>55</td>\n      <td>green</td>\n      <td>green</td>\n    </tr>\n    <tr>\n      <th>8</th>\n      <td>Aiden</td>\n      <td>60</td>\n      <td>green</td>\n      <td>brown</td>\n    </tr>\n    <tr>\n      <th>9</th>\n      <td>Benjamin</td>\n      <td>50</td>\n      <td>gray</td>\n      <td>yellow</td>\n    </tr>\n    <tr>\n      <th>...</th>\n      <td>...</td>\n      <td>...</td>\n      <td>...</td>\n      <td>...</td>\n    </tr>\n    <tr>\n      <th>194</th>\n      <td>Charlotte</td>\n      <td>45</td>\n      <td>blue</td>\n      <td>red</td>\n    </tr>\n    <tr>\n      <th>195</th>\n      <td>Noah</td>\n      <td>39</td>\n      <td>hazel</td>\n      <td>white</td>\n    </tr>\n    <tr>\n      <th>197</th>\n      <td>Lucas</td>\n      <td>53</td>\n      <td>blue</td>\n      <td>white</td>\n    </tr>\n    <tr>\n      <th>198</th>\n      <td>Emma</td>\n      <td>63</td>\n      <td>amber</td>\n      <td>blue</td>\n    </tr>\n    <tr>\n      <th>199</th>\n      <td>Evelyn</td>\n      <td>65</td>\n      <td>gray</td>\n      <td>black</td>\n    </tr>\n  </tbody>\n</table>\n<p>110 rows × 4 columns</p>\n</div>"
     },
     "execution_count": 43,
     "metadata": {},
     "output_type": "execute_result"
    }
   ],
   "source": [
    "pd[pd['age'] > 30]"
   ],
   "metadata": {
    "collapsed": false,
    "ExecuteTime": {
     "end_time": "2023-12-04T19:44:19.503816Z",
     "start_time": "2023-12-04T19:44:19.456067Z"
    }
   }
  },
  {
   "cell_type": "markdown",
   "source": [
    "## Task 4: Find out the youngest and the oldest person in the dataset"
   ],
   "metadata": {
    "collapsed": false
   }
  },
  {
   "cell_type": "code",
   "execution_count": 44,
   "outputs": [
    {
     "data": {
      "text/plain": "         name  age eye_color favorite_color\n4       James    1     hazel          black\n192  Penelope    1      gray           pink",
      "text/html": "<div>\n<style scoped>\n    .dataframe tbody tr th:only-of-type {\n        vertical-align: middle;\n    }\n\n    .dataframe tbody tr th {\n        vertical-align: top;\n    }\n\n    .dataframe thead th {\n        text-align: right;\n    }\n</style>\n<table border=\"1\" class=\"dataframe\">\n  <thead>\n    <tr style=\"text-align: right;\">\n      <th></th>\n      <th>name</th>\n      <th>age</th>\n      <th>eye_color</th>\n      <th>favorite_color</th>\n    </tr>\n  </thead>\n  <tbody>\n    <tr>\n      <th>4</th>\n      <td>James</td>\n      <td>1</td>\n      <td>hazel</td>\n      <td>black</td>\n    </tr>\n    <tr>\n      <th>192</th>\n      <td>Penelope</td>\n      <td>1</td>\n      <td>gray</td>\n      <td>pink</td>\n    </tr>\n  </tbody>\n</table>\n</div>"
     },
     "execution_count": 44,
     "metadata": {},
     "output_type": "execute_result"
    }
   ],
   "source": [
    "pd[pd['age'] == pd['age'].min()]"
   ],
   "metadata": {
    "collapsed": false,
    "ExecuteTime": {
     "end_time": "2023-12-04T19:44:19.508418Z",
     "start_time": "2023-12-04T19:44:19.466095Z"
    }
   }
  },
  {
   "cell_type": "code",
   "execution_count": 45,
   "outputs": [
    {
     "data": {
      "text/plain": "          name  age eye_color favorite_color\n68      Samuel   65      gray            red\n97   Sebastian   65     hazel           blue\n199     Evelyn   65      gray          black",
      "text/html": "<div>\n<style scoped>\n    .dataframe tbody tr th:only-of-type {\n        vertical-align: middle;\n    }\n\n    .dataframe tbody tr th {\n        vertical-align: top;\n    }\n\n    .dataframe thead th {\n        text-align: right;\n    }\n</style>\n<table border=\"1\" class=\"dataframe\">\n  <thead>\n    <tr style=\"text-align: right;\">\n      <th></th>\n      <th>name</th>\n      <th>age</th>\n      <th>eye_color</th>\n      <th>favorite_color</th>\n    </tr>\n  </thead>\n  <tbody>\n    <tr>\n      <th>68</th>\n      <td>Samuel</td>\n      <td>65</td>\n      <td>gray</td>\n      <td>red</td>\n    </tr>\n    <tr>\n      <th>97</th>\n      <td>Sebastian</td>\n      <td>65</td>\n      <td>hazel</td>\n      <td>blue</td>\n    </tr>\n    <tr>\n      <th>199</th>\n      <td>Evelyn</td>\n      <td>65</td>\n      <td>gray</td>\n      <td>black</td>\n    </tr>\n  </tbody>\n</table>\n</div>"
     },
     "execution_count": 45,
     "metadata": {},
     "output_type": "execute_result"
    }
   ],
   "source": [
    "pd[pd['age'] == pd['age'].max()]"
   ],
   "metadata": {
    "collapsed": false,
    "ExecuteTime": {
     "end_time": "2023-12-04T19:44:19.508766Z",
     "start_time": "2023-12-04T19:44:19.476333Z"
    }
   }
  },
  {
   "cell_type": "markdown",
   "source": [
    "## Task 5: Find the undercover agent"
   ],
   "metadata": {
    "collapsed": false
   }
  },
  {
   "cell_type": "markdown",
   "source": [
    "There is an undercover agent that we are trying to find. We have these descriptions about the agent:\n",
    "- The agent's name is 6 characters long\n",
    "- The agent is older than 30\n",
    "- The agent has brown eyes\n",
    "- The agent's favorite color is not brown\n",
    "- Their name starts with \"S\""
   ],
   "metadata": {
    "collapsed": false
   }
  },
  {
   "cell_type": "code",
   "execution_count": 51,
   "outputs": [
    {
     "data": {
      "text/plain": "      name  age eye_color favorite_color\n94  Samuel   40     brown         orange",
      "text/html": "<div>\n<style scoped>\n    .dataframe tbody tr th:only-of-type {\n        vertical-align: middle;\n    }\n\n    .dataframe tbody tr th {\n        vertical-align: top;\n    }\n\n    .dataframe thead th {\n        text-align: right;\n    }\n</style>\n<table border=\"1\" class=\"dataframe\">\n  <thead>\n    <tr style=\"text-align: right;\">\n      <th></th>\n      <th>name</th>\n      <th>age</th>\n      <th>eye_color</th>\n      <th>favorite_color</th>\n    </tr>\n  </thead>\n  <tbody>\n    <tr>\n      <th>94</th>\n      <td>Samuel</td>\n      <td>40</td>\n      <td>brown</td>\n      <td>orange</td>\n    </tr>\n  </tbody>\n</table>\n</div>"
     },
     "execution_count": 51,
     "metadata": {},
     "output_type": "execute_result"
    }
   ],
   "source": [
    "pd[(pd['name'].apply(len) == 6) & (pd['age'] >= 30) & (pd['eye_color'] == 'brown') & (pd['favorite_color'] != 'brown') & (pd['name'].str.startswith('S'))]"
   ],
   "metadata": {
    "collapsed": false,
    "ExecuteTime": {
     "end_time": "2023-12-04T19:52:35.100957Z",
     "start_time": "2023-12-04T19:52:35.086358Z"
    }
   }
  }
 ],
 "metadata": {
  "kernelspec": {
   "display_name": "Python 3",
   "language": "python",
   "name": "python3"
  },
  "language_info": {
   "codemirror_mode": {
    "name": "ipython",
    "version": 2
   },
   "file_extension": ".py",
   "mimetype": "text/x-python",
   "name": "python",
   "nbconvert_exporter": "python",
   "pygments_lexer": "ipython2",
   "version": "2.7.6"
  }
 },
 "nbformat": 4,
 "nbformat_minor": 0
}
